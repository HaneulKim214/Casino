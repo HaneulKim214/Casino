{
 "cells": [
  {
   "cell_type": "code",
   "execution_count": 2,
   "id": "7b0c75a5",
   "metadata": {},
   "outputs": [],
   "source": [
    "import numpy as np\n",
    "import pandas as pd"
   ]
  },
  {
   "cell_type": "code",
   "execution_count": 3,
   "id": "19b0d035",
   "metadata": {},
   "outputs": [],
   "source": [
    "def append_side_bets(lst, i):\n",
    "    \"\"\"\n",
    "    Add all side bets to appropriate numbers\n",
    "\n",
    "    Parameters\n",
    "    ----------\n",
    "    lst : list\n",
    "          list of bets a number has so far\n",
    "    i : int\n",
    "        current number\n",
    "    \"\"\"\n",
    "    if i <= 13:\n",
    "        lst.append(\"first_12\")\n",
    "    elif 13 <= i <= 24:\n",
    "        lst.append(\"second_12\")\n",
    "    else:\n",
    "        lst.append(\"third_12\")\n",
    "    if i <= 18:\n",
    "        lst.append(\"1to18\")\n",
    "    else:\n",
    "        lst.append(\"19to36\")\n",
    "    return lst\n",
    "\n",
    "\n",
    "def add_2to1(lst, i):\n",
    "    if i in list(range(1, 35, 3)):\n",
    "        lst.append(\"left_2to1\")\n",
    "    elif i in list(range(2, 36, 3)):\n",
    "        lst.append(\"mid_2to1\")\n",
    "    else:\n",
    "        lst.append(\"right_2to1\")"
   ]
  },
  {
   "cell_type": "code",
   "execution_count": 9,
   "id": "6ec5f76a",
   "metadata": {},
   "outputs": [
    {
     "name": "stdout",
     "output_type": "stream",
     "text": [
      "0\n",
      "['green']\n"
     ]
    }
   ],
   "source": [
    "wheel = {}\n",
    "for i in range(37):\n",
    "    lst = []\n",
    "    if i == 0:\n",
    "        print(i)\n",
    "        lst.append(\"green\")\n",
    "        wheel[i] = lst\n",
    "        print(lst)\n",
    "        continue\n",
    "    elif i % 2 == 0:\n",
    "        lst.append(\"even\")\n",
    "        lst.append(\"red\")\n",
    "        lst = append_side_bets(lst, i)\n",
    "        print(lst)\n",
    "        lst = add_2to1(lst, i)\n",
    "        print(lst)\n",
    "    else:\n",
    "        lst.append(\"odd\")\n",
    "        lst.append(\"black\")\n",
    "        lst = append_side_bets(lst, i)\n",
    "        lst = add_2to1(lst, i)\n",
    "    wheel[i] = lst"
   ]
  },
  {
   "cell_type": "code",
   "execution_count": 5,
   "id": "5ebe62b0",
   "metadata": {},
   "outputs": [
    {
     "data": {
      "text/plain": [
       "{1: None,\n",
       " 2: None,\n",
       " 3: None,\n",
       " 4: None,\n",
       " 5: None,\n",
       " 6: None,\n",
       " 7: None,\n",
       " 8: None,\n",
       " 9: None,\n",
       " 10: None,\n",
       " 11: None,\n",
       " 12: None,\n",
       " 13: None,\n",
       " 14: None,\n",
       " 15: None,\n",
       " 16: None,\n",
       " 17: None,\n",
       " 18: None,\n",
       " 19: None,\n",
       " 20: None,\n",
       " 21: None,\n",
       " 22: None,\n",
       " 23: None,\n",
       " 24: None,\n",
       " 25: None,\n",
       " 26: None,\n",
       " 27: None,\n",
       " 28: None,\n",
       " 29: None,\n",
       " 30: None,\n",
       " 31: None,\n",
       " 32: None,\n",
       " 33: None,\n",
       " 34: None,\n",
       " 35: None,\n",
       " 36: None}"
      ]
     },
     "execution_count": 5,
     "metadata": {},
     "output_type": "execute_result"
    }
   ],
   "source": [
    "wheel"
   ]
  }
 ],
 "metadata": {
  "kernelspec": {
   "display_name": "Python 3 (ipykernel)",
   "language": "python",
   "name": "python3"
  },
  "language_info": {
   "codemirror_mode": {
    "name": "ipython",
    "version": 3
   },
   "file_extension": ".py",
   "mimetype": "text/x-python",
   "name": "python",
   "nbconvert_exporter": "python",
   "pygments_lexer": "ipython3",
   "version": "3.7.11"
  },
  "toc": {
   "base_numbering": 1,
   "nav_menu": {},
   "number_sections": true,
   "sideBar": true,
   "skip_h1_title": false,
   "title_cell": "Table of Contents",
   "title_sidebar": "Contents",
   "toc_cell": false,
   "toc_position": {},
   "toc_section_display": true,
   "toc_window_display": false
  }
 },
 "nbformat": 4,
 "nbformat_minor": 5
}
