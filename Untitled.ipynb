{
 "cells": [
  {
   "cell_type": "code",
   "execution_count": 1,
   "id": "fe9b96c4",
   "metadata": {},
   "outputs": [],
   "source": [
    "import numpy as np\n",
    "import pandas as pd"
   ]
  },
  {
   "cell_type": "code",
   "execution_count": 2,
   "id": "dd260458",
   "metadata": {},
   "outputs": [],
   "source": [
    "from Roulette import Roulette"
   ]
  },
  {
   "cell_type": "code",
   "execution_count": 3,
   "id": "f6c31c41",
   "metadata": {},
   "outputs": [],
   "source": [
    "euro_roulette = Roulette()"
   ]
  },
  {
   "cell_type": "code",
   "execution_count": 4,
   "id": "b6d5b18d",
   "metadata": {},
   "outputs": [],
   "source": [
    "bets = [(\"red\", 100), (2, 30), (\"1to18\", 300)]"
   ]
  },
  {
   "cell_type": "code",
   "execution_count": 13,
   "id": "7c05949a",
   "metadata": {},
   "outputs": [
    {
     "data": {
      "text/plain": [
       "200"
      ]
     },
     "execution_count": 13,
     "metadata": {},
     "output_type": "execute_result"
    }
   ],
   "source": [
    "euro_roulette.roll(bets)"
   ]
  },
  {
   "cell_type": "code",
   "execution_count": 14,
   "id": "5e07402d",
   "metadata": {},
   "outputs": [
    {
     "data": {
      "text/plain": [
       "[31, 6, 5, 32, 29, 20, 4, 12, 20]"
      ]
     },
     "execution_count": 14,
     "metadata": {},
     "output_type": "execute_result"
    }
   ],
   "source": [
    "\n",
    "euro_roulette.history"
   ]
  },
  {
   "cell_type": "markdown",
   "id": "853a8d4e",
   "metadata": {},
   "source": [
    "## Goal\n",
    "\n",
    "1. Try out my strategies and see the result\n",
    "2. Develop reinforcement learning agent to find most optimal strategy"
   ]
  },
  {
   "cell_type": "code",
   "execution_count": null,
   "id": "46a13c4d",
   "metadata": {},
   "outputs": [],
   "source": []
  }
 ],
 "metadata": {
  "kernelspec": {
   "display_name": "Python 3 (ipykernel)",
   "language": "python",
   "name": "python3"
  },
  "language_info": {
   "codemirror_mode": {
    "name": "ipython",
    "version": 3
   },
   "file_extension": ".py",
   "mimetype": "text/x-python",
   "name": "python",
   "nbconvert_exporter": "python",
   "pygments_lexer": "ipython3",
   "version": "3.7.11"
  },
  "toc": {
   "base_numbering": 1,
   "nav_menu": {},
   "number_sections": true,
   "sideBar": true,
   "skip_h1_title": false,
   "title_cell": "Table of Contents",
   "title_sidebar": "Contents",
   "toc_cell": false,
   "toc_position": {},
   "toc_section_display": true,
   "toc_window_display": false
  }
 },
 "nbformat": 4,
 "nbformat_minor": 5
}
